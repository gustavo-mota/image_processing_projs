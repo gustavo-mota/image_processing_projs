{
 "cells": [
  {
   "cell_type": "code",
   "execution_count": 1,
   "metadata": {},
   "outputs": [],
   "source": [
    "import matplotlib.pyplot as plt\n",
    "import numpy as np\n",
    "import cv2"
   ]
  },
  {
   "cell_type": "markdown",
   "metadata": {},
   "source": [
    "Gradiente: vetor que representa o sentido da variação (no caso, das cores), sendo formado pelas variações em x e y."
   ]
  },
  {
   "cell_type": "markdown",
   "metadata": {},
   "source": [
    "Filtro de sobel: corrige a derivada parcial baseada nos pontos vizinhos.\n",
    "\n",
    "\n",
    "f(x) = [[-1,0,1]\n",
    "        [-2,0,2]\n",
    "        [-1,0,1]]\n",
    "        \n",
    "        \n",
    "f(y) = [[-1,-2,-1]\n",
    "        [0,0,0]\n",
    "        [1,2,1]]\n",
    "\n",
    "Assim, tem-se o gradiente de sobel = [[f(y)]\n",
    "                                     [f(x)]]"
   ]
  },
  {
   "cell_type": "code",
   "execution_count": null,
   "metadata": {},
   "outputs": [],
   "source": []
  }
 ],
 "metadata": {
  "kernelspec": {
   "display_name": "Python 3",
   "language": "python",
   "name": "python3"
  },
  "language_info": {
   "codemirror_mode": {
    "name": "ipython",
    "version": 3
   },
   "file_extension": ".py",
   "mimetype": "text/x-python",
   "name": "python",
   "nbconvert_exporter": "python",
   "pygments_lexer": "ipython3",
   "version": "3.7.9"
  }
 },
 "nbformat": 4,
 "nbformat_minor": 4
}

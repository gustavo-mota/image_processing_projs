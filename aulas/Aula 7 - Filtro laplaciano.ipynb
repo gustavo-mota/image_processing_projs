{
 "cells": [
  {
   "cell_type": "code",
   "execution_count": 1,
   "metadata": {},
   "outputs": [],
   "source": [
    "import matplotlib.pyplot as plt\n",
    "import numpy as np\n",
    "import cv2"
   ]
  },
  {
   "cell_type": "code",
   "execution_count": 9,
   "metadata": {},
   "outputs": [
    {
     "data": {
      "text/plain": [
       "<matplotlib.collections.PathCollection at 0x2e34f4814c8>"
      ]
     },
     "execution_count": 9,
     "metadata": {},
     "output_type": "execute_result"
    },
    {
     "data": {
      "image/png": "[encoded data removed]",
      "text/plain": [
       "<Figure size 432x288 with 1 Axes>"
      ]
     },
     "metadata": {
      "needs_background": "light"
     },
     "output_type": "display_data"
    }
   ],
   "source": [
    "img1 = [6,6,6,6,6,5,4,3,2,1,1,6,6,6,6,6]\n",
    "len(img1)\n",
    "img2 = range(16)\n",
    "plt.plot(img2,img1)\n",
    "plt.scatter(img2,img1, color = \"r\")"
   ]
  },
  {
   "cell_type": "markdown",
   "metadata": {},
   "source": [
    "f'(x) = [0,0,0,0,-1,-1,-1,-1,-1,0,5,0,0,0,0]"
   ]
  },
  {
   "cell_type": "code",
   "execution_count": 29,
   "metadata": {},
   "outputs": [],
   "source": [
    "def mostrar_img(img, title, color = None):\n",
    "    plt.figure(figsize = (5,5))\n",
    "    plt.title(title)\n",
    "    if color == \"cinza\":\n",
    "        plt.imshow(img, cmap = \"gray\",vmin = 0, vmax = 7)\n",
    "    else:\n",
    "        plt.imshow(img)\n",
    "    plt.show()"
   ]
  },
  {
   "cell_type": "code",
   "execution_count": 39,
   "metadata": {},
   "outputs": [],
   "source": [
    "deriimg1 = [0,0,0,0,-1,-1,-1,-1,-1,0,5,0,0,0,0]\n",
    "len(deriimg1)\n",
    "img1 = [[6,6,6,6,5,4,3,2,1,1,1,1,1,1,6,6,6,6,6]]"
   ]
  },
  {
   "cell_type": "code",
   "execution_count": 40,
   "metadata": {},
   "outputs": [
    {
     "data": {
      "image/png": "[encoded data removed]",
      "text/plain": [
       "<Figure size 360x360 with 1 Axes>"
      ]
     },
     "metadata": {
      "needs_background": "light"
     },
     "output_type": "display_data"
    }
   ],
   "source": [
    "mostrar_img(img1, \"imagem real\",color = \"cinza\")"
   ]
  },
  {
   "cell_type": "code",
   "execution_count": 41,
   "metadata": {},
   "outputs": [
    {
     "data": {
      "image/png": "[encoded data removed]",
      "text/plain": [
       "<Figure size 360x360 with 1 Axes>"
      ]
     },
     "metadata": {
      "needs_background": "light"
     },
     "output_type": "display_data"
    }
   ],
   "source": [
    "deriimg1 = [[0,0,0,-1,-1,-1,-1,-1,0,0,0,0,0,5,0,0,0,0]]\n",
    "mostrar_img(deriimg1, \"derivada da imagem\",color = \"cinza\")"
   ]
  },
  {
   "cell_type": "code",
   "execution_count": 42,
   "metadata": {},
   "outputs": [
    {
     "data": {
      "image/png": "[encoded data removed]",
      "text/plain": [
       "<Figure size 360x360 with 1 Axes>"
      ]
     },
     "metadata": {
      "needs_background": "light"
     },
     "output_type": "display_data"
    }
   ],
   "source": [
    "deriimg2 = [[0,0,-1,0,0,0,0,1,0,0,0,0,5,-5,0,0,0]]\n",
    "mostrar_img(deriimg2, \"derivada 2° da imagem\",color = \"cinza\")"
   ]
  },
  {
   "cell_type": "markdown",
   "metadata": {},
   "source": [
    "assim, f''(x) = f(x+1) + f(x-1) - 2*f(x). dessa forma, pensando de forma tridimensional:\n",
    "\n",
    "\n",
    "filtro conv laplaciano = [[0,1,0]\n",
    "                         [1,-4,1]\n",
    "                         [0,1,0]]\n",
    "                         \n",
    "\n",
    "filtro conv laplaciano diagonal = [[1,1,1]\n",
    "                                  [1,-8,1]\n",
    "                                  [1,1,1]]\n",
    "\n",
    "\n",
    "filtro invertido: apenas trocando o sinal dos valores do filtro."
   ]
  },
  {
   "cell_type": "code",
   "execution_count": null,
   "metadata": {},
   "outputs": [],
   "source": []
  }
 ],
 "metadata": {
  "kernelspec": {
   "display_name": "Python 3",
   "language": "python",
   "name": "python3"
  },
  "language_info": {
   "codemirror_mode": {
    "name": "ipython",
    "version": 3
   },
   "file_extension": ".py",
   "mimetype": "text/x-python",
   "name": "python",
   "nbconvert_exporter": "python",
   "pygments_lexer": "ipython3",
   "version": "3.7.9"
  }
 },
 "nbformat": 4,
 "nbformat_minor": 4
}

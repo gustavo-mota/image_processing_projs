{
 "cells": [
  {
   "cell_type": "code",
   "execution_count": 1,
   "metadata": {},
   "outputs": [],
   "source": [
    "import cv2\n",
    "import numpy as np"
   ]
  },
  {
   "cell_type": "code",
   "execution_count": 4,
   "metadata": {},
   "outputs": [],
   "source": [
    "def read_image(path, mod=0):\n",
    "    im = cv2.imread(path, mod)\n",
    "    return im\n",
    "\n",
    "def show_image(im, wk=0, name='image'):\n",
    "    cv2.imshow(name, im)\n",
    "    cv2.waitKey(wk)\n",
    "    cv2.destroyAllWindows()"
   ]
  },
  {
   "cell_type": "code",
   "execution_count": 5,
   "metadata": {},
   "outputs": [],
   "source": [
    "path = \"Fig0304(a)(breast_digital_Xray).tif\"\n",
    "\n",
    "im = read_image(path)\n",
    "show_image(im)"
   ]
  },
  {
   "cell_type": "code",
   "execution_count": 6,
   "metadata": {},
   "outputs": [
    {
     "data": {
      "text/plain": [
       "array([[ 23,  30,  32, ..., 238, 238, 238],\n",
       "       [ 38,  26,  39, ..., 238, 238, 238],\n",
       "       [ 35,  21,  43, ..., 238, 238, 238],\n",
       "       ...,\n",
       "       [ 31,  31,  29, ...,  30,  30,  30],\n",
       "       [ 31,  31,  29, ...,  30,  30,  30],\n",
       "       [ 31,  31,  29, ...,  30,  30,  30]], dtype=uint8)"
      ]
     },
     "execution_count": 6,
     "metadata": {},
     "output_type": "execute_result"
    }
   ],
   "source": [
    "im"
   ]
  },
  {
   "cell_type": "code",
   "execution_count": 25,
   "metadata": {},
   "outputs": [],
   "source": [
    "#im2 = -im\n",
    "im2 = 255 - im2\n",
    "show_image(im2)"
   ]
  },
  {
   "cell_type": "code",
   "execution_count": 7,
   "metadata": {},
   "outputs": [],
   "source": [
    "im3 = im.astype(np.int8)"
   ]
  },
  {
   "cell_type": "code",
   "execution_count": 34,
   "metadata": {},
   "outputs": [],
   "source": [
    "im4 = -im3\n",
    "show_image(im4)"
   ]
  },
  {
   "cell_type": "code",
   "execution_count": 22,
   "metadata": {},
   "outputs": [],
   "source": [
    "show_image(im3)"
   ]
  },
  {
   "cell_type": "markdown",
   "metadata": {},
   "source": [
    "## Escala Logarítmica"
   ]
  },
  {
   "cell_type": "markdown",
   "metadata": {},
   "source": [
    "### Método em Aula"
   ]
  },
  {
   "cell_type": "code",
   "execution_count": 17,
   "metadata": {},
   "outputs": [],
   "source": [
    "im_double = np.double(im)/255\n",
    "#show_image(im_double, name='Double')  # cv2 passa para a plca convertida para 255\n",
    "# se você somar im_double + 1, a conevrsão automática corta tudo para 255\n",
    "# que ultrapassar o valor 1, já que o tipo double é maior que byte\n",
    "# portnto a tela ficará branca\n",
    "show_image(1 + im_double, name='Double')"
   ]
  },
  {
   "cell_type": "code",
   "execution_count": 16,
   "metadata": {},
   "outputs": [
    {
     "data": {
      "text/plain": [
       "array([[0.09019608, 0.11764706, 0.1254902 , ..., 0.93333333, 0.93333333,\n",
       "        0.93333333],\n",
       "       [0.14901961, 0.10196078, 0.15294118, ..., 0.93333333, 0.93333333,\n",
       "        0.93333333],\n",
       "       [0.1372549 , 0.08235294, 0.16862745, ..., 0.93333333, 0.93333333,\n",
       "        0.93333333],\n",
       "       ...,\n",
       "       [0.12156863, 0.12156863, 0.11372549, ..., 0.11764706, 0.11764706,\n",
       "        0.11764706],\n",
       "       [0.12156863, 0.12156863, 0.11372549, ..., 0.11764706, 0.11764706,\n",
       "        0.11764706],\n",
       "       [0.12156863, 0.12156863, 0.11372549, ..., 0.11764706, 0.11764706,\n",
       "        0.11764706]])"
      ]
     },
     "execution_count": 16,
     "metadata": {},
     "output_type": "execute_result"
    }
   ],
   "source": [
    "np.double(im)/255"
   ]
  },
  {
   "cell_type": "code",
   "execution_count": 22,
   "metadata": {},
   "outputs": [],
   "source": [
    "show_image(np.log(im_double))  # sem a soma, o logarítmo torna tão pequeno que muitos valores ficam abaixo\n",
    "show_image(np.log(im_double + 1 ))  # até os já bancos se tornam 1 poucos ficam abaixo\n",
    "# para clarear sem perdas, multiplique por uma constante\n",
    "cons = 5.4\n",
    "show_image(cons * np.log(im_double + 1 ))"
   ]
  },
  {
   "cell_type": "code",
   "execution_count": 31,
   "metadata": {},
   "outputs": [],
   "source": [
    "show_image(im)"
   ]
  },
  {
   "cell_type": "markdown",
   "metadata": {},
   "source": [
    "### Método em Vídeo"
   ]
  },
  {
   "cell_type": "code",
   "execution_count": 43,
   "metadata": {},
   "outputs": [
    {
     "name": "stderr",
     "output_type": "stream",
     "text": [
      "<ipython-input-43-2f3909170010>:1: RuntimeWarning: divide by zero encountered in log\n",
      "  im_log = np.log(1+ im)\n"
     ]
    }
   ],
   "source": [
    "im_log = np.log(1+ im)"
   ]
  },
  {
   "cell_type": "code",
   "execution_count": 45,
   "metadata": {},
   "outputs": [
    {
     "data": {
      "text/plain": [
       "array([[3.178, 3.434, 3.496, ..., 5.477, 5.477, 5.477],\n",
       "       [3.664, 3.295, 3.69 , ..., 5.477, 5.477, 5.477],\n",
       "       [3.584, 3.092, 3.785, ..., 5.477, 5.477, 5.477],\n",
       "       ...,\n",
       "       [3.465, 3.465, 3.4  , ..., 3.434, 3.434, 3.434],\n",
       "       [3.465, 3.465, 3.4  , ..., 3.434, 3.434, 3.434],\n",
       "       [3.465, 3.465, 3.4  , ..., 3.434, 3.434, 3.434]], dtype=float16)"
      ]
     },
     "execution_count": 45,
     "metadata": {},
     "output_type": "execute_result"
    }
   ],
   "source": [
    "im_log"
   ]
  },
  {
   "cell_type": "code",
   "execution_count": 46,
   "metadata": {},
   "outputs": [
    {
     "data": {
      "text/plain": [
       "array([[146.1, 158. , 160.9, ..., 251.9, 251.9, 251.9],\n",
       "       [168.5, 151.6, 169.8, ..., 251.9, 251.9, 251.9],\n",
       "       [164.9, 142.2, 174.1, ..., 251.9, 251.9, 251.9],\n",
       "       ...,\n",
       "       [159.4, 159.4, 156.4, ..., 158. , 158. , 158. ],\n",
       "       [159.4, 159.4, 156.4, ..., 158. , 158. , 158. ],\n",
       "       [159.4, 159.4, 156.4, ..., 158. , 158. , 158. ]], dtype=float16)"
      ]
     },
     "execution_count": 46,
     "metadata": {},
     "output_type": "execute_result"
    }
   ],
   "source": [
    "c = 255/(np.log(255 + 1))\n",
    "c*im_log"
   ]
  },
  {
   "cell_type": "code",
   "execution_count": 67,
   "metadata": {},
   "outputs": [],
   "source": [
    "show_image((c*im_log).astype(np.uint8))"
   ]
  },
  {
   "cell_type": "markdown",
   "metadata": {},
   "source": [
    "## Compactando em Funções"
   ]
  },
  {
   "cell_type": "code",
   "execution_count": 26,
   "metadata": {},
   "outputs": [],
   "source": [
    "def log_clarea(im, ret=1, show=0):\n",
    "    im_log = np.log(1+ im)\n",
    "    c = 255/(np.log(255 + 1))\n",
    "    im_log = (c*im_log).astype(np.uint8)\n",
    "    if show==1:\n",
    "        show_image(im_log)\n",
    "    if ret==1:\n",
    "        return im_log\n",
    "    \n",
    "def log_escu(im, show=0):  # não funciona\n",
    "    im_log = np.log(1+ im)\n",
    "    if show==1:\n",
    "        show_image(im)"
   ]
  },
  {
   "cell_type": "markdown",
   "metadata": {},
   "source": [
    "### Aplicando"
   ]
  },
  {
   "cell_type": "code",
   "execution_count": 27,
   "metadata": {},
   "outputs": [],
   "source": [
    "praia = read_image(\"noronha-praia-sancho-vista-esquerdo-300.jpg\")\n",
    "show_image(praia)"
   ]
  },
  {
   "cell_type": "code",
   "execution_count": 75,
   "metadata": {},
   "outputs": [
    {
     "name": "stderr",
     "output_type": "stream",
     "text": [
      "<ipython-input-71-51a825097943>:11: RuntimeWarning: divide by zero encountered in log\n",
      "  im_log = np.log(1+ im)\n"
     ]
    }
   ],
   "source": [
    "log_escu(praia,show=1)"
   ]
  },
  {
   "cell_type": "code",
   "execution_count": 29,
   "metadata": {},
   "outputs": [],
   "source": [
    "def log_transf(im, c=1, i=1):  # altera contraste e brilho\n",
    "    show_image(c * (np.log(np.double(im)/255 + i)))\n",
    "\n",
    "def gama_trans(im, c=1, i=1):  # escurecedor\n",
    "    show_image(c * ((np.double(im)/255) ** i))"
   ]
  },
  {
   "cell_type": "code",
   "execution_count": 32,
   "metadata": {},
   "outputs": [],
   "source": [
    "gama_trans(praia, c=1, i=.2)"
   ]
  },
  {
   "cell_type": "markdown",
   "metadata": {},
   "source": [
    "# Filtragem Espacial"
   ]
  },
  {
   "cell_type": "markdown",
   "metadata": {},
   "source": [
    "## Convolução"
   ]
  },
  {
   "cell_type": "code",
   "execution_count": 3,
   "metadata": {},
   "outputs": [],
   "source": [
    "def convolution(img, fil, whiter_border = 0):\n",
    "    '''\n",
    "        img: an image. Matrix.\n",
    "        fil: 3x3 convolutional filter.\n",
    "        white_border: decides if the image should \n",
    "                    be fulfilled whit zeros borders.\n",
    "    '''\n",
    "    width, height = img.shape()\n",
    "    final = np.array()\n",
    "    for j in range(img.shape[1] + (img.shape[0] - 8)):\n",
    "        line = []\n",
    "        for i in range((4 - img.shape[0]) + img.shape[0]):  \n",
    "            conv =  np.convolve(np.flip(filter[0]), img[j, i:i+3]) + \\\n",
    "                    np.convolve(np.flip(filter[1]), img[j+1, i:i+3]) + \\\n",
    "                    np.convolve(np.flip(filter[2]), img[j+2, i:i+3])\n",
    "            line.append(np.copy(conv))  # testar se necessário e a sáida da soma\n",
    "        final = np.append(final, line)\n",
    "    \n",
    "    return final"
   ]
  },
  {
   "cell_type": "code",
   "execution_count": null,
   "metadata": {},
   "outputs": [],
   "source": [
    "cv2.imread()"
   ]
  },
  {
   "cell_type": "code",
   "execution_count": 117,
   "metadata": {},
   "outputs": [
    {
     "name": "stdout",
     "output_type": "stream",
     "text": [
      "\n",
      " [1, 2, 3, 4, 5, 6] \n",
      " [7, 8, 9, 10, 11, 12] \n",
      " [13, 14, 15, 16, 17, 18]\n"
     ]
    }
   ],
   "source": [
    "print(\"\\n\",lista[0],\"\\n\",lista[1],\"\\n\",lista[2])"
   ]
  },
  {
   "cell_type": "code",
   "execution_count": 177,
   "metadata": {},
   "outputs": [
    {
     "data": {
      "text/plain": [
       "array([[ 1,  2,  3,  4,  5,  6],\n",
       "       [ 7,  8,  9, 10, 11, 12],\n",
       "       [13, 14, 15, 16, 17, 18],\n",
       "       [ 1,  2,  3,  4,  5,  6],\n",
       "       [ 7,  8,  9, 10, 11, 12],\n",
       "       [13, 14, 15, 16, 17, 18],\n",
       "       [ 1,  2,  3,  4,  5,  6],\n",
       "       [ 7,  8,  9, 10, 11, 12],\n",
       "       [13, 14, 15, 16, 17, 18],\n",
       "       [ 1,  2,  3,  4,  5,  6],\n",
       "       [ 7,  8,  9, 10, 11, 12],\n",
       "       [13, 14, 15, 16, 17, 18]])"
      ]
     },
     "execution_count": 177,
     "metadata": {},
     "output_type": "execute_result"
    }
   ],
   "source": [
    "img"
   ]
  },
  {
   "cell_type": "code",
   "execution_count": 142,
   "metadata": {},
   "outputs": [
    {
     "data": {
      "text/plain": [
       "20"
      ]
     },
     "execution_count": 142,
     "metadata": {},
     "output_type": "execute_result"
    }
   ],
   "source": [
    "# misericórdia\n",
    "#img.shape[0] - (4 - img.shape[0])"
   ]
  },
  {
   "cell_type": "code",
   "execution_count": 251,
   "metadata": {},
   "outputs": [
    {
     "data": {
      "text/plain": [
       "7"
      ]
     },
     "execution_count": 251,
     "metadata": {},
     "output_type": "execute_result"
    }
   ],
   "source": [
    "img.shape[0]"
   ]
  },
  {
   "cell_type": "code",
   "execution_count": 258,
   "metadata": {},
   "outputs": [
    {
     "data": {
      "text/plain": [
       "2"
      ]
     },
     "execution_count": 258,
     "metadata": {},
     "output_type": "execute_result"
    }
   ],
   "source": [
    "(img.shape[0] - 8)"
   ]
  },
  {
   "cell_type": "code",
   "execution_count": 257,
   "metadata": {},
   "outputs": [],
   "source": [
    "lista = [   [1,2,3,4,5,6], [7,8,9,10,11,12], [13,14,15,16,17,18],\n",
    "            [1,2,3,4,5,6], [7,8,9,10,11,12], [13,14,15,16,17,18],\n",
    "            [1,2,3,4,5,6], [7,8,9,10,11,12], [13,14,15,16,17,18],\n",
    "            [1,2,3,4,5,6]]#, [7,8,9,10,11,12], [13,14,15,16,17,18]]\n",
    "img = np.array( lista )"
   ]
  },
  {
   "cell_type": "code",
   "execution_count": 228,
   "metadata": {},
   "outputs": [
    {
     "data": {
      "text/plain": [
       "4"
      ]
     },
     "execution_count": 228,
     "metadata": {},
     "output_type": "execute_result"
    }
   ],
   "source": [
    "img.shape[1] + (img.shape[1] - 8)"
   ]
  },
  {
   "cell_type": "code",
   "execution_count": 259,
   "metadata": {},
   "outputs": [
    {
     "name": "stdout",
     "output_type": "stream",
     "text": [
      "[1 2 3] [7 8 9] [13 14 15]\n",
      "[2 3 4] [ 8  9 10] [14 15 16]\n",
      "[3 4 5] [ 9 10 11] [15 16 17]\n",
      "[4 5 6] [10 11 12] [16 17 18]\n",
      "---------\n",
      "[7 8 9] [13 14 15] [1 2 3]\n",
      "[ 8  9 10] [14 15 16] [2 3 4]\n",
      "[ 9 10 11] [15 16 17] [3 4 5]\n",
      "[10 11 12] [16 17 18] [4 5 6]\n",
      "---------\n",
      "[13 14 15] [1 2 3] [7 8 9]\n",
      "[14 15 16] [2 3 4] [ 8  9 10]\n",
      "[15 16 17] [3 4 5] [ 9 10 11]\n",
      "[16 17 18] [4 5 6] [10 11 12]\n",
      "---------\n",
      "[1 2 3] [7 8 9] [13 14 15]\n",
      "[2 3 4] [ 8  9 10] [14 15 16]\n",
      "[3 4 5] [ 9 10 11] [15 16 17]\n",
      "[4 5 6] [10 11 12] [16 17 18]\n",
      "---------\n",
      "[7 8 9] [13 14 15] [1 2 3]\n",
      "[ 8  9 10] [14 15 16] [2 3 4]\n",
      "[ 9 10 11] [15 16 17] [3 4 5]\n",
      "[10 11 12] [16 17 18] [4 5 6]\n",
      "---------\n",
      "[13 14 15] [1 2 3] [7 8 9]\n",
      "[14 15 16] [2 3 4] [ 8  9 10]\n",
      "[15 16 17] [3 4 5] [ 9 10 11]\n",
      "[16 17 18] [4 5 6] [10 11 12]\n",
      "---------\n",
      "[1 2 3] [7 8 9] [13 14 15]\n",
      "[2 3 4] [ 8  9 10] [14 15 16]\n",
      "[3 4 5] [ 9 10 11] [15 16 17]\n",
      "[4 5 6] [10 11 12] [16 17 18]\n",
      "---------\n",
      "[7 8 9] [13 14 15] [1 2 3]\n",
      "[ 8  9 10] [14 15 16] [2 3 4]\n",
      "[ 9 10 11] [15 16 17] [3 4 5]\n",
      "[10 11 12] [16 17 18] [4 5 6]\n",
      "---------\n"
     ]
    }
   ],
   "source": [
    "# parquinho\n",
    "for j in range(img.shape[1] + (img.shape[0] - 8)):\n",
    "    for i in range((4 - img.shape[0]) + img.shape[0]):  # se shape > 4\n",
    "        print(   img[j, i:i+3],\n",
    "                 img[j+1, i:i+3],\n",
    "                img[j+2, i:i+3])\n",
    "    print(\"---------\")"
   ]
  },
  {
   "cell_type": "markdown",
   "metadata": {},
   "source": [
    "# Esteganografia"
   ]
  },
  {
   "cell_type": "markdown",
   "metadata": {},
   "source": [
    "## Fatiamento Pixels"
   ]
  },
  {
   "cell_type": "markdown",
   "metadata": {},
   "source": [
    "## Fatiamento Inverso"
   ]
  },
  {
   "cell_type": "markdown",
   "metadata": {},
   "source": [
    "# Histograma"
   ]
  },
  {
   "cell_type": "code",
   "execution_count": null,
   "metadata": {},
   "outputs": [],
   "source": [
    "# o que é\n",
    "\n",
    "# probabilidade de umpixel na intensidade z"
   ]
  },
  {
   "cell_type": "markdown",
   "metadata": {},
   "source": [
    "## Equalização de Histograma"
   ]
  },
  {
   "cell_type": "markdown",
   "metadata": {},
   "source": [
    "# Detecção de Bordas"
   ]
  },
  {
   "cell_type": "markdown",
   "metadata": {},
   "source": [
    "## Filtro de Sobel"
   ]
  },
  {
   "cell_type": "code",
   "execution_count": 2,
   "metadata": {},
   "outputs": [],
   "source": [
    "def flt_sobel(img):\n",
    "    dX = np.array([[-1, 0, 1], [-2, 0, 2], [-1, 0, 1]])\n",
    "    dY = np.array([[-1, -2, -1], [0, 0, 0], [1, 2, 1]])\n",
    "    \n",
    "    return img*dX + img*dY"
   ]
  }
 ],
 "metadata": {
  "kernelspec": {
   "display_name": "Python 3",
   "language": "python",
   "name": "python3"
  },
  "language_info": {
   "codemirror_mode": {
    "name": "ipython",
    "version": 3
   },
   "file_extension": ".py",
   "mimetype": "text/x-python",
   "name": "python",
   "nbconvert_exporter": "python",
   "pygments_lexer": "ipython3",
   "version": "3.8.3"
  }
 },
 "nbformat": 4,
 "nbformat_minor": 4
}
